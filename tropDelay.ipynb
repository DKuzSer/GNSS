{
 "cells": [
  {
   "cell_type": "markdown",
   "id": "2d105388",
   "metadata": {},
   "source": [
    "# Домашнее задание по курсу Методы прецизионных измерений в спутниковой навигации  (МПИСРНС)\n",
    "# Кузищин Дмитрий РЛ1-112\n",
    "# Вариант №7"
   ]
  },
  {
   "cell_type": "code",
   "execution_count": 1,
   "id": "e37fa4ca",
   "metadata": {},
   "outputs": [],
   "source": [
    "import numpy as np\n",
    "import math as mt\n",
    "import matplotlib.pyplot as plt\n",
    "import scipy. interpolate"
   ]
  },
  {
   "cell_type": "markdown",
   "id": "d9a895e8",
   "metadata": {},
   "source": [
    "# 1. Начальный данные"
   ]
  },
  {
   "cell_type": "code",
   "execution_count": 2,
   "id": "1111d6ee",
   "metadata": {},
   "outputs": [],
   "source": [
    "x = 7780917.08181935\n",
    "y = 10587811.7318081\n",
    "H = 200\n",
    "\n",
    "a_sc42 = 6378245 # СК-42\n",
    "b_sc42 = 6356863 # СК-42\n",
    "\n",
    "a_wgs84 = 6378137        # WGS-84\n",
    "b_wgs84 = 6356752.3142   # WGS-84"
   ]
  },
  {
   "cell_type": "markdown",
   "id": "71584a17",
   "metadata": {},
   "source": [
    "# 2. Используемые функции"
   ]
  },
  {
   "cell_type": "code",
   "execution_count": 3,
   "id": "08fcd97f",
   "metadata": {},
   "outputs": [],
   "source": [
    "def rectangularRefToGeodetic(x, y):\n",
    "    n = int(y * 1e-6)\n",
    "    beta = x / 6367558.4968\n",
    "    B0 = beta + np.sin(2*beta) * (0.00252588685 - 0.00001491860 * mt.pow(np.sin(beta),2) + \\\n",
    "                                  0.00000011904 * mt.pow(np.sin(beta),4))\n",
    "    z0 = (y - (10*n + 5) * 1e+5) / (6378245 * np.cos(B0))\n",
    "    \n",
    "    l = -mt.pow(z0,2) * (0.0038 + 0.0524*mt.pow(np.sin(B0),2) + 0.0482*mt.pow(np.sin(B0),4) - \\\n",
    "                         0.0032*mt.pow(np.sin(B0),6))\n",
    "    l = -mt.pow(z0,2) * (0.01225 + 0.09477*mt.pow(np.sin(B0),2) + 0.03282*mt.pow(np.sin(B0),4) - \\\n",
    "                         0.00034*mt.pow(np.sin(B0),6) + l)\n",
    "    l = -mt.pow(z0,2) * (0.0420025 + 0.1487407*mt.pow(np.sin(B0),2) + 0.0059420*mt.pow(np.sin(B0),4) - \\\n",
    "                         0.0000150*mt.pow(np.sin(B0),6) + l)\n",
    "    l = -mt.pow(z0,2) * (0.16778975 + 0.16273586*mt.pow(np.sin(B0),2) - 0.00052490*mt.pow(np.sin(B0),4) - \\\n",
    "                         0.00000846*mt.pow(np.sin(B0),6) + l)\n",
    "    l = z0 * (1 - 0.0033467108*mt.pow(np.sin(B0),2) - 0.0000056002*mt.pow(np.sin(B0),4) - \\\n",
    "              0.0000000187*mt.pow(np.sin(B0),6) + l)\n",
    "    \n",
    "    dB = -mt.pow(z0,2) * (0.01672 - 0.00630*mt.pow(np.sin(B0),2) + 0.01188*mt.pow(np.sin(B0),4) + \\\n",
    "                          0.00328*mt.pow(np.sin(B0),6))\n",
    "    dB = -mt.pow(z0,2) * (0.042858 - 0.025318*mt.pow(np.sin(B0),2) + 0.014346*mt.pow(np.sin(B0),4) - \\\n",
    "                          0.001264*mt.pow(np.sin(B0),6) + dB)\n",
    "    dB = -mt.pow(z0,2) * (0.10500614 - 0.04559916*mt.pow(np.sin(B0),2) + 0.00228901*mt.pow(np.sin(B0),4) - \\\n",
    "                          0.00002987*mt.pow(np.sin(B0),6) + dB)\n",
    "    dB = -mt.pow(z0,2) * np.sin(2*B0) * (0.251684631 - 0.003369263*mt.pow(np.sin(B0),2) + \\\n",
    "                                         0.00001127*mt.pow(np.sin(B0),4) + dB)\n",
    "    \n",
    "    B = B0 + dB\n",
    "    L = 6 * (n - 0.5) / 57.29577951 + l\n",
    "    \n",
    "    return [B, L]"
   ]
  },
  {
   "cell_type": "code",
   "execution_count": 4,
   "id": "2a2cb7c8",
   "metadata": {},
   "outputs": [],
   "source": [
    "def geodeticToRectangularRef(B, L):\n",
    "    L = L / np.pi * 180\n",
    "    n = int((6 + L) / 6)\n",
    "    l = (L - (3 + 6 * (n-1))) / 57.29577951\n",
    "    \n",
    "    x = mt.pow(l,2) * (109500 - 574700*mt.pow(np.sin(B),2) + 863700*mt.pow(np.sin(B),4) \\\n",
    "                       - 398600*mt.pow(np.sin(B),6))\n",
    "    x = mt.pow(l,2) * (278194 - 830174*mt.pow(np.sin(B),2) + 572434*mt.pow(np.sin(B),4) \\\n",
    "                       - 16010*mt.pow(np.sin(B),6) + x)\n",
    "    x = mt.pow(l,2) * (672483.4 - 811219.9*mt.pow(np.sin(B),2) + 5420.0*mt.pow(np.sin(B),4) \\\n",
    "                       - 10.6*mt.pow(np.sin(B),6) + x)\n",
    "    x = -mt.pow(l,2) * (1594561.25 + 5336.535*mt.pow(np.sin(B),2) + 26.790*mt.pow(np.sin(B),4) \\\n",
    "                        + 0.149*mt.pow(np.sin(B),6) + x)\n",
    "    x = 6367558.4968 * B - np.sin(2*B) * (16002.8900 + 66.9607*mt.pow(np.sin(B),2) \\\n",
    "                                             + 0.3515*mt.pow(np.sin(B),4) + x)\n",
    "    \n",
    "    y = mt.pow(l,2) * (79690 - 866190*mt.pow(np.sin(B),2) + 1730360*mt.pow(np.sin(B),4) \\\n",
    "                       - 945460*mt.pow(np.sin(B),6))\n",
    "    y = mt.pow(l,2) * (270806 - 1523417*mt.pow(np.sin(B),2) + 1327645*mt.pow(np.sin(B),4) \\\n",
    "                       - 21701*mt.pow(np.sin(B),6) + y)\n",
    "    y = mt.pow(l,2) * (1070204.16 - 2136826.66*mt.pow(np.sin(B),2) + 17.98*mt.pow(np.sin(B),4) \\\n",
    "                       - 11.99*mt.pow(np.sin(B),6) + y)\n",
    "    y = (5 + 10 * n) * 1e+5 + l * np.cos(B) * (6378245 + 21346.1415*mt.pow(np.sin(B),2) + \\\n",
    "                       107.1590*mt.pow(np.sin(B),4) + 0.5977*mt.pow(np.sin(B),6) + y)\n",
    "    \n",
    "    return [x, y]"
   ]
  },
  {
   "cell_type": "code",
   "execution_count": 5,
   "id": "3ecee6d8",
   "metadata": {},
   "outputs": [],
   "source": [
    "def geodeticToGeocentric(B, L, H, a, b):\n",
    "    alfa = (a - b)/a\n",
    "    e_sqr = 2 * alfa -  mt.pow(alfa, 2)\n",
    "    N = a / mt.sqrt(1 - e_sqr * np.power(np.sin(B),2))\n",
    "    X = (N + H) * np.cos(B) * np.cos(L)\n",
    "    Y = (N + H) * np.cos(B) * np.sin(L)\n",
    "    Z = ((1 - e_sqr) * N + H) * np.sin(B)\n",
    "    return [X, Y, Z]"
   ]
  },
  {
   "cell_type": "code",
   "execution_count": 6,
   "id": "4517c6f9",
   "metadata": {},
   "outputs": [],
   "source": [
    "def geocentricToGeodetic(X, Y, Z, a, b):\n",
    "    \n",
    "    alfa = (a - b)/a\n",
    "    e_sqr = 2 * alfa -  mt.pow(alfa, 2)\n",
    "    \n",
    "    D = mt.sqrt(mt.pow(X,2) + mt.pow(Y,2))\n",
    "    if(D == 0):\n",
    "        B = np.pi/2 * (Z/np.abs(Z)) \n",
    "        L = 0\n",
    "        H = Z * np.sin(B) - a * mt.sqrt(1-e_sqr * mt.pow(np.sin(B),2))\n",
    "    else:\n",
    "        La = np.abs(np.arcsin(Y/D))\n",
    "        if(Y < 0 and X > 0):\n",
    "            L = 2 * np.pi - La\n",
    "        elif(Y < 0 and X < 0):\n",
    "            L = np.pi + La\n",
    "        elif(Y > 0 and X < 0):\n",
    "            L = np.pi - La\n",
    "        elif(Y > 0 and X > 0):\n",
    "            L = La\n",
    "        elif(Y == 0 and X > 0):\n",
    "            L = 0\n",
    "        elif(Y == 0 and X < 0):\n",
    "            L = np.pi\n",
    "            \n",
    "        if(Z == 0):\n",
    "            B = 0\n",
    "            H = D - a\n",
    "        else:\n",
    "            r = mt.sqrt(np.power(X,2) + np.power(Y,2) + np.power(Z,2))\n",
    "            c = np.arcsin(Z/r)\n",
    "            p = (e_sqr * a) / (2 * r)\n",
    "            d = 1e-8\n",
    "            s1 = 0\n",
    "            s2 = 10\n",
    "            \n",
    "            while(d < np.abs(s2 - s1)):\n",
    "                if(s2 != 10):\n",
    "                    s1 = s2\n",
    "                b = c + s1\n",
    "                s2 = np.arcsin((p * np.sin(2*b)) / mt.sqrt(1 - e_sqr * np.power(np.sin(b),2)))\n",
    "                \n",
    "            B = b\n",
    "            H = D * np.cos(B) + Z * np.sin(B) - a * mt.sqrt(1 - e_sqr * np.power(np.sin(B),2))\n",
    "            \n",
    "    return [B, L, H]"
   ]
  },
  {
   "cell_type": "code",
   "execution_count": 7,
   "id": "5f4feb3f",
   "metadata": {},
   "outputs": [],
   "source": [
    "def sc42ToPz90(x, y, z):\n",
    "    dx = 23.557\n",
    "    dy = -140.844\n",
    "    dz = -79.778\n",
    "    w_z = 3.850439e-6\n",
    "    w_y = 1.679685e-6\n",
    "    w_x = 1.115071e-8\n",
    "    m = -0.228e-6\n",
    "    \n",
    "    matTransform = np.array([[1, -w_z, w_y], [w_z, 1, -w_x], [-w_y, w_x, 1]])\n",
    "    matCoords = np.array([[x], [y], [z]])\n",
    "    matErrors = np.array([[dx], [dy], [dz]])\n",
    "    matResult = (1 + m) * matTransform.dot(matCoords) + matErrors\n",
    "\n",
    "    return np.reshape(matResult, 3)"
   ]
  },
  {
   "cell_type": "code",
   "execution_count": 8,
   "id": "87485a09",
   "metadata": {},
   "outputs": [],
   "source": [
    "def pz90ToSc42(x, y, z):\n",
    "    dx = 23.557\n",
    "    dy = -140.844\n",
    "    dz = -79.778\n",
    "    w_z = 3.850439e-6\n",
    "    w_y = 1.679685e-6\n",
    "    w_x = 1.115071e-8\n",
    "    m = -0.228e-6\n",
    "    \n",
    "    matTransform = np.array([[1, w_z, -w_y], [-w_z, 1, w_x], [w_y, -w_x, 1]])\n",
    "    matCoords = np.array([[x], [y], [z]])\n",
    "    matErrors = np.array([[dx], [dy], [dz]])\n",
    "    matResult = (1 - m) * matTransform.dot(matCoords) - matErrors\n",
    "\n",
    "    return np.reshape(matResult, 3)"
   ]
  },
  {
   "cell_type": "code",
   "execution_count": 9,
   "id": "d5ba4240",
   "metadata": {},
   "outputs": [],
   "source": [
    "def wgs84ToPz90(x, y, z):\n",
    "    dx = -0.013\n",
    "    dy = 0.106\n",
    "    dz = 0.022\n",
    "    w_z = 2.041066e-8\n",
    "    w_y = -1.716240e-8\n",
    "    w_x = 1.115071e-8\n",
    "    m = -0.008e-6\n",
    "    \n",
    "    matTransform = np.array([[1, -w_z, w_y], [w_z, 1, -w_x], [-w_y, w_x, 1]])\n",
    "    matCoords = np.array([[x], [y], [z]])\n",
    "    matErrors = np.array([[dx], [dy], [dz]])\n",
    "    matResult = (1 + m) * matTransform.dot(matCoords) + matErrors\n",
    "\n",
    "    return np.reshape(matResult, 3)"
   ]
  },
  {
   "cell_type": "code",
   "execution_count": 10,
   "id": "857bbdfe",
   "metadata": {},
   "outputs": [],
   "source": [
    "def pz90ToWgs84(x, y, z):\n",
    "    dx = -0.013\n",
    "    dy = 0.106\n",
    "    dz = 0.022\n",
    "    w_z = 2.041066e-8\n",
    "    w_y = -1.716240e-8\n",
    "    w_x = 1.115071e-8\n",
    "    m = -0.008e-6\n",
    "    \n",
    "    matTransform = np.array([[1, w_z, -w_y], [-w_z, 1, w_x], [w_y, -w_x, 1]])\n",
    "    matCoords = np.array([[x], [y], [z]])\n",
    "    matErrors = np.array([[dx], [dy], [dz]])\n",
    "    matResult = (1 - m) * matTransform.dot(matCoords) - matErrors\n",
    "\n",
    "    return np.reshape(matResult, 3)"
   ]
  },
  {
   "cell_type": "markdown",
   "id": "4f4f06ab",
   "metadata": {},
   "source": [
    "# 3. Проверка преообразований координат"
   ]
  },
  {
   "cell_type": "markdown",
   "id": "73c0a8f9",
   "metadata": {},
   "source": [
    "## 3.1 Проверка перехода от проекции Гаусса-Крюгера на эллипсоиде Красовского в геодезические координаты (СК-42)"
   ]
  },
  {
   "cell_type": "code",
   "execution_count": 11,
   "id": "d5b04c6d",
   "metadata": {},
   "outputs": [
    {
     "name": "stdout",
     "output_type": "stream",
     "text": [
      "[1.2233162869776286, 1.035155601566387]\n"
     ]
    }
   ],
   "source": [
    "[B, L] = rectangularRefToGeodetic(x, y)\n",
    "print([B, L])"
   ]
  },
  {
   "cell_type": "code",
   "execution_count": 12,
   "id": "5b665920",
   "metadata": {},
   "outputs": [
    {
     "name": "stdout",
     "output_type": "stream",
     "text": [
      "7780917.081813617 10587811.731905576\n"
     ]
    }
   ],
   "source": [
    "[x_check, y_check] = geodeticToRectangularRef(B, L)\n",
    "print(x_check, y_check)"
   ]
  },
  {
   "cell_type": "code",
   "execution_count": 13,
   "id": "7d8646f2",
   "metadata": {},
   "outputs": [
    {
     "name": "stdout",
     "output_type": "stream",
     "text": [
      "5.733221769332886e-06 -9.747594594955444e-05\n"
     ]
    }
   ],
   "source": [
    "print(x-x_check, y-y_check)"
   ]
  },
  {
   "cell_type": "markdown",
   "id": "c1e11372",
   "metadata": {},
   "source": [
    "## 3.2 Проверка перехода от геодезических координат (СК-42) в геоцентрические (СК-42)"
   ]
  },
  {
   "cell_type": "code",
   "execution_count": 14,
   "id": "23d42653",
   "metadata": {},
   "outputs": [
    {
     "name": "stdout",
     "output_type": "stream",
     "text": [
      "1111891.134778626 1873386.3427632337 5974791.787199787\n"
     ]
    }
   ],
   "source": [
    "[X, Y, Z] = geodeticToGeocentric(B, L, H, a_sc42, b_sc42)\n",
    "print(X, Y, Z)"
   ]
  },
  {
   "cell_type": "code",
   "execution_count": 15,
   "id": "70b92748",
   "metadata": {},
   "outputs": [
    {
     "name": "stdout",
     "output_type": "stream",
     "text": [
      "1.2233162872744563 1.035155601566387 200.0\n"
     ]
    }
   ],
   "source": [
    "[B_check, L_check, H_check] = geocentricToGeodetic(X, Y, Z, a_sc42, b_sc42)\n",
    "print(B_check, L_check, H_check)"
   ]
  },
  {
   "cell_type": "code",
   "execution_count": 16,
   "id": "9d630861",
   "metadata": {},
   "outputs": [
    {
     "name": "stdout",
     "output_type": "stream",
     "text": [
      "-2.968276735515474e-10 0.0 0.0\n"
     ]
    }
   ],
   "source": [
    "print(B-B_check, L-L_check, H-H_check)"
   ]
  },
  {
   "cell_type": "markdown",
   "id": "d970a047",
   "metadata": {},
   "source": [
    "## 3.3 Проверка перехода от геоцентрических координат (СК-42) в ПЗ-90.11 "
   ]
  },
  {
   "cell_type": "code",
   "execution_count": 17,
   "id": "9fc194ee",
   "metadata": {},
   "outputs": [
    {
     "name": "stdout",
     "output_type": "stream",
     "text": [
      "1111917.2606751106 1873249.2862760052 5974708.800210408\n"
     ]
    }
   ],
   "source": [
    "[X_pz90, Y_pz90, Z_pz90] = sc42ToPz90(X, Y, Z)\n",
    "print(X_pz90, Y_pz90, Z_pz90)"
   ]
  },
  {
   "cell_type": "code",
   "execution_count": 18,
   "id": "b389e256",
   "metadata": {},
   "outputs": [
    {
     "name": "stdout",
     "output_type": "stream",
     "text": [
      "1111891.1343949598 1873386.3426285414 5974791.787227119\n"
     ]
    }
   ],
   "source": [
    "[X_check, Y_check, Z_check] = pz90ToSc42(X_pz90, Y_pz90, Z_pz90)\n",
    "print(X_check, Y_check, Z_check)"
   ]
  },
  {
   "cell_type": "code",
   "execution_count": 19,
   "id": "a660d235",
   "metadata": {},
   "outputs": [
    {
     "name": "stdout",
     "output_type": "stream",
     "text": [
      "0.0003836662508547306 0.00013469229452311993 -2.7332454919815063e-05\n"
     ]
    }
   ],
   "source": [
    "print(X-X_check, Y-Y_check, Z-Z_check)"
   ]
  },
  {
   "cell_type": "markdown",
   "id": "5467779c",
   "metadata": {},
   "source": [
    "## 3.4 Проверка перехода от WGS-84 в ПЗ-90.11"
   ]
  },
  {
   "cell_type": "code",
   "execution_count": 20,
   "id": "39d9e312",
   "metadata": {},
   "outputs": [
    {
     "name": "stdout",
     "output_type": "stream",
     "text": [
      "1111917.4233450466 1873249.23918928 5974708.78603685\n"
     ]
    }
   ],
   "source": [
    "[X_wgs84, Y_wgs84, Z_wgs84] = pz90ToWgs84(X_pz90, Y_pz90, Z_pz90)\n",
    "print(X_wgs84, Y_wgs84, Z_wgs84)"
   ]
  },
  {
   "cell_type": "code",
   "execution_count": 21,
   "id": "10ecfff2",
   "metadata": {},
   "outputs": [
    {
     "name": "stdout",
     "output_type": "stream",
     "text": [
      "1111917.2606751127 1873249.2862760099 5974708.80021041\n"
     ]
    }
   ],
   "source": [
    "[X_pz90_check, Y_pz90_check, Z_pz90_check] = wgs84ToPz90(X_wgs84, Y_wgs84, Z_wgs84)\n",
    "print(X_pz90_check, Y_pz90_check, Z_pz90_check)"
   ]
  },
  {
   "cell_type": "code",
   "execution_count": 22,
   "id": "aedf7be3",
   "metadata": {},
   "outputs": [
    {
     "name": "stdout",
     "output_type": "stream",
     "text": [
      "-2.0954757928848267e-09 -4.6566128730773926e-09 -1.862645149230957e-09\n"
     ]
    }
   ],
   "source": [
    "print(X_pz90-X_pz90_check, Y_pz90-Y_pz90_check, Z_pz90-Z_pz90_check)"
   ]
  },
  {
   "cell_type": "markdown",
   "id": "6a23bfc5",
   "metadata": {},
   "source": [
    "## 3.5 Проверка перехода от геоцентрических WGS-84 в геодезические WGS-84"
   ]
  },
  {
   "cell_type": "code",
   "execution_count": 23,
   "id": "effd10f4",
   "metadata": {},
   "outputs": [
    {
     "name": "stdout",
     "output_type": "stream",
     "text": [
      "1.2233275035015037 1.0351131009898034 196.75417841039598\n"
     ]
    }
   ],
   "source": [
    "[B_wgs84, L_wgs84, H_wgs84] = geocentricToGeodetic(X_wgs84, Y_wgs84, Z_wgs84, a_wgs84, b_wgs84)\n",
    "print(B_wgs84, L_wgs84, H_wgs84)"
   ]
  },
  {
   "cell_type": "code",
   "execution_count": 24,
   "id": "a04ff704",
   "metadata": {},
   "outputs": [
    {
     "name": "stdout",
     "output_type": "stream",
     "text": [
      "1111917.422433885 1873249.2376542438 5974708.786683342\n"
     ]
    }
   ],
   "source": [
    "[X_wgs84_check, Y_wgs84_check, Z_wgs84_check] = geodeticToGeocentric(B_wgs84, L_wgs84, H_wgs84, a_wgs84, b_wgs84)\n",
    "print(X_wgs84_check, Y_wgs84_check, Z_wgs84_check)"
   ]
  },
  {
   "cell_type": "code",
   "execution_count": 25,
   "id": "6edbc9a9",
   "metadata": {},
   "outputs": [
    {
     "name": "stdout",
     "output_type": "stream",
     "text": [
      "0.0009111615363508463 0.0015350361354649067 -0.0006464924663305283\n"
     ]
    }
   ],
   "source": [
    "print(X_wgs84-X_wgs84_check, Y_wgs84-Y_wgs84_check, Z_wgs84-Z_wgs84_check)"
   ]
  },
  {
   "cell_type": "code",
   "execution_count": 26,
   "id": "0831e4cd",
   "metadata": {},
   "outputs": [
    {
     "name": "stdout",
     "output_type": "stream",
     "text": [
      "70.0915029129116 59.30761200541469 196.75417841039598\n"
     ]
    }
   ],
   "source": [
    "print(B_wgs84*180/np.pi, L_wgs84*180/np.pi, H_wgs84)"
   ]
  },
  {
   "cell_type": "code",
   "execution_count": 27,
   "id": "9f62430e",
   "metadata": {},
   "outputs": [],
   "source": [
    "result_B = B_wgs84*180/np.pi"
   ]
  },
  {
   "cell_type": "markdown",
   "id": "ff6b44d5",
   "metadata": {},
   "source": [
    "# 4. Расчёт тропосферной задержки"
   ]
  },
  {
   "cell_type": "markdown",
   "id": "870264e9",
   "metadata": {},
   "source": [
    "## 4.1 Постоянные значения "
   ]
  },
  {
   "cell_type": "code",
   "execution_count": 28,
   "id": "65502fc1",
   "metadata": {},
   "outputs": [],
   "source": [
    "g = 9.80665   # [м/с2]\n",
    "gm = 9.784    # [м/с2]\n",
    "Rd = 287.054  # [Дж∙кг^−1∙K^−1]\n",
    "k1 = 77.604   # [K/мбар]\n",
    "k2 = 382000   # [K^2/мбар]"
   ]
  },
  {
   "cell_type": "markdown",
   "id": "1af93fef",
   "metadata": {},
   "source": [
    "## 4.2 Используемые функции"
   ]
  },
  {
   "cell_type": "code",
   "execution_count": 29,
   "id": "dc9d54a5",
   "metadata": {},
   "outputs": [],
   "source": [
    "def defineDmin(latitude):\n",
    "    if(latitude == \"Северная\"):\n",
    "        return 28\n",
    "    if(latitude == \"Южная\"):\n",
    "        return 211\n",
    "    return 0"
   ]
  },
  {
   "cell_type": "code",
   "execution_count": 30,
   "id": "eac25f3b",
   "metadata": {},
   "outputs": [],
   "source": [
    "def calculateMetParam(p0, dp, D, Dmin):\n",
    "    return p0 - dp * np.cos((2*np.pi*(D-Dmin))/(365.25))"
   ]
  },
  {
   "cell_type": "code",
   "execution_count": 31,
   "id": "c2f6dfac",
   "metadata": {},
   "outputs": [],
   "source": [
    "def tropCorrect(el):\n",
    "    if(el >= 4):\n",
    "        return 1.001 / mt.sqrt(0.002001 + np.power(np.sin(el),2))\n",
    "    if(el >= 2 and el < 4):\n",
    "        first = 1.001 / mt.sqrt(0.002001 + np.power(np.sin(np.pi*el/180),2))\n",
    "        second = first * (1 + 0.015 * np.power((4-el),2))\n",
    "        return second\n",
    "    return 0"
   ]
  },
  {
   "cell_type": "markdown",
   "id": "6bc44c2e",
   "metadata": {},
   "source": [
    "## 4.3 Определение текущего дня в году  и угла места спутника"
   ]
  },
  {
   "cell_type": "code",
   "execution_count": 32,
   "id": "a8654ddf",
   "metadata": {},
   "outputs": [],
   "source": [
    "el = 19.6293  # угол места спутника, град\n",
    "D = 292       # номер дня в году даты 19.10.2023 (в момент наблюдения)\n",
    "#result_B = 56\n",
    "#el = 2\n",
    "#D = 120\n",
    "Dmin = defineDmin(\"Северная\")"
   ]
  },
  {
   "cell_type": "markdown",
   "id": "d9bc192c",
   "metadata": {},
   "source": [
    "## 4.4 Вычисление параметров для тропосферной задержки"
   ]
  },
  {
   "cell_type": "markdown",
   "id": "1edca407",
   "metadata": {},
   "source": [
    "<table>\n",
    "<tr>\n",
    "<th><div align=\"center\">Часть 1</div></th>\n",
    "<th><div align=\"center\">Часть 2</div></th>\n",
    "</tr>\n",
    "<tr>\n",
    "<td>\n",
    "                             \n",
    "<table>\n",
    "  <tr>\n",
    "    <th rowspan=\"2\" class=\"first\"><div align=\"center\">Широта, град</div></th>\n",
    "    <th colspan=\"6\"><div align=\"center\">Среднее значение параметра</div></th>\n",
    "  </tr>\n",
    "  <tr>\n",
    "    <td class=\"first\"><div align=\"center\">$P_{0}$, мбар</div></td>\n",
    "    <td class=\"first\"><div align=\"center\">$T_{0}$, К</div></td>\n",
    "    <td class=\"first\"><div align=\"center\">$e_{0}$, мбар</div></td>\n",
    "    <td class=\"first\"><div align=\"center\">$\\beta_{0}$, К/м</div></td>\n",
    "    <td class=\"first\"><div align=\"center\">$\\lambda_{0}$</div></td>\n",
    "  </tr>\n",
    "  <tr>\n",
    "    <td rowspan=\"1\" class=\"first\"><div align=\"center\">$ \\le 15$</div></td>\n",
    "    <td><div align=\"center\">1013,25</div></td>\n",
    "    <td><div align=\"center\">299,65</div></td>\n",
    "    <td><div align=\"center\">26,31</div></td>\n",
    "    <td><div align=\"center\">0,00630</div></td>\n",
    "    <td><div align=\"center\">2,77</div></td>\n",
    "  </tr>\n",
    "  <tr>\n",
    "    <td rowspan=\"1\" class=\"first\"><div align=\"center\">30</div></td>\n",
    "    <td><div align=\"center\">1017,25</div></td>\n",
    "    <td><div align=\"center\">294,15</div></td>\n",
    "    <td><div align=\"center\">21,79</div></td>\n",
    "    <td><div align=\"center\">0,00605</div></td>\n",
    "    <td><div align=\"center\">3,15</div></td>\n",
    "  </tr>\n",
    "  <tr>\n",
    "    <td rowspan=\"1\" class=\"first\"><div align=\"center\">45</div></td>\n",
    "    <td><div align=\"center\">1015,75</div></td>\n",
    "    <td><div align=\"center\">283,15</div></td>\n",
    "    <td><div align=\"center\">11,66</div></td>\n",
    "    <td><div align=\"center\">0,00558</div></td>\n",
    "    <td><div align=\"center\">2,57</div></td>\n",
    "  </tr>\n",
    "  <tr>\n",
    "    <td rowspan=\"1\" class=\"first\"><div align=\"center\">60</div></td>\n",
    "    <td><div align=\"center\">1011,75</div></td>\n",
    "    <td><div align=\"center\">272,15</div></td>\n",
    "    <td><div align=\"center\">6,78</div></td>\n",
    "    <td><div align=\"center\">0,00539</div></td>\n",
    "    <td><div align=\"center\">1,81</div></td>\n",
    "  </tr>\n",
    "  <tr>\n",
    "    <td rowspan=\"1\" class=\"first\"><div align=\"center\">$ \\ge 75$</div></td>\n",
    "    <td><div align=\"center\">1013,00</div></td>\n",
    "    <td><div align=\"center\">263,65</div></td>\n",
    "    <td><div align=\"center\">4,11</div></td>\n",
    "    <td><div align=\"center\">0,00453</div></td>\n",
    "    <td><div align=\"center\">1,55</div></td>\n",
    "  </tr>\n",
    "</table>\n",
    "    \n",
    "</td>\n",
    "<td>\n",
    "\n",
    "<table>\n",
    "  <tr>\n",
    "    <th rowspan=\"2\" class=\"first\"><div align=\"center\">Широта, град</div></th>\n",
    "    <th colspan=\"6\"><div align=\"center\">Сезонное изменение параметра</div></th>\n",
    "  </tr>\n",
    "  <tr>\n",
    "    <td class=\"first\"><div align=\"center\">$\\Delta$P, мбар</div></td>\n",
    "    <td class=\"first\"><div align=\"center\">$\\Delta$T, К</div></td>\n",
    "    <td class=\"first\"><div align=\"center\">$\\Delta$e, мбар</div></td>\n",
    "    <td class=\"first\"><div align=\"center\">$\\Delta$$\\beta$, К/м</div></td>\n",
    "    <td class=\"first\"><div align=\"center\">$\\Delta$$\\lambda$</div></td>\n",
    "  </tr>\n",
    "  <tr>\n",
    "    <td rowspan=\"1\" class=\"first\"><div align=\"center\">$ \\le 15$</div></td>\n",
    "    <td><div align=\"center\">0,00</div></td>\n",
    "    <td><div align=\"center\">0,00</div></td>\n",
    "    <td><div align=\"center\">0,00</div></td>\n",
    "    <td><div align=\"center\">0,00</div></td>\n",
    "    <td><div align=\"center\">0,00</div></td>\n",
    "  </tr>\n",
    "  <tr>\n",
    "    <td rowspan=\"1\" class=\"first\"><div align=\"center\">30</div></td>\n",
    "    <td><div align=\"center\">-3,75</div></td>\n",
    "    <td><div align=\"center\">7,00</div></td>\n",
    "    <td><div align=\"center\">8,85</div></td>\n",
    "    <td><div align=\"center\">0,00025</div></td>\n",
    "    <td><div align=\"center\">0,33</div></td>\n",
    "  </tr>\n",
    "  <tr>\n",
    "    <td rowspan=\"1\" class=\"first\"><div align=\"center\">45</div></td>\n",
    "    <td><div align=\"center\">-2,25</div></td>\n",
    "    <td><div align=\"center\">11,00</div></td>\n",
    "    <td><div align=\"center\">7,24</div></td>\n",
    "    <td><div align=\"center\">0,00032</div></td>\n",
    "    <td><div align=\"center\">0,46</div></td>\n",
    "  </tr>\n",
    "  <tr>\n",
    "    <td rowspan=\"1\" class=\"first\"><div align=\"center\">60</div></td>\n",
    "    <td><div align=\"center\">-1,75</div></td>\n",
    "    <td><div align=\"center\">15,00</div></td>\n",
    "    <td><div align=\"center\">5,36</div></td>\n",
    "    <td><div align=\"center\">0,00081</div></td>\n",
    "    <td><div align=\"center\">0,74</div></td>\n",
    "  </tr>\n",
    "  <tr>\n",
    "    <td rowspan=\"1\" class=\"first\"><div align=\"center\">$ \\ge 75$</div></td>\n",
    "    <td><div align=\"center\">-0,50</div></td>\n",
    "    <td><div align=\"center\">14,50</div></td>\n",
    "    <td><div align=\"center\">3,39</div></td>\n",
    "    <td><div align=\"center\">0,00062</div></td>\n",
    "    <td><div align=\"center\">0,30</div></td>\n",
    "  </tr>\n",
    "</table>\n",
    "    \n",
    "</td>\n",
    "</tr>\n",
    "</table>"
   ]
  },
  {
   "cell_type": "code",
   "execution_count": 33,
   "id": "84d2d839",
   "metadata": {},
   "outputs": [],
   "source": [
    "x = [15, 30, 45, 60, 75]\n",
    "P0_table = [1013.25, 1017.25, 1015.75, 1011.75, 1013.00]\n",
    "T0_table = [299.65, 294.15, 283.15, 272.15, 263.65]\n",
    "e0_table = [26.31, 21.79, 11.66, 6.78, 4.11]\n",
    "beta0_table = [0.00630, 0.00605, 0.00558, 0.00539, 0.00453]\n",
    "lam0_table = [2.77, 3.15, 2.57, 1.81, 1.55]\n",
    "\n",
    "dP_table = [0.0, -3.75, -2.25, -1.75, -0.5]\n",
    "dT_table = [0.0, 7.0, 11.0, 15.0, 14.0]\n",
    "de_table = [0.0, 8.85, 7.24, 5.36, 3.39]\n",
    "dbeta_table = [0.0, 0.00025, 0.00032, 0.00081, 0.00062]\n",
    "dlam_table = [0.0, 0.33, 0.46, 0.74, 0.3]"
   ]
  },
  {
   "cell_type": "code",
   "execution_count": 34,
   "id": "c79a8123",
   "metadata": {},
   "outputs": [
    {
     "data": {
      "image/png": "[encoded data removed]",
      "text/plain": [
       "<Figure size 936x720 with 5 Axes>"
      ]
     },
     "metadata": {
      "needs_background": "light"
     },
     "output_type": "display_data"
    }
   ],
   "source": [
    "plt.subplots(figsize = (13, 10), constrained_layout=True)\n",
    "\n",
    "plt.subplot(3, 2, 1)\n",
    "plt.plot(x, P0_table, 'o-')\n",
    "plt.xlabel('Широта, град')\n",
    "plt.ylabel('P0, мбар')\n",
    "plt.grid()\n",
    "\n",
    "plt.subplot(3, 2, 2)\n",
    "plt.plot(x, T0_table, 'o-')\n",
    "plt.xlabel('Широта, град')\n",
    "plt.ylabel('T0, K')\n",
    "plt.grid()\n",
    "\n",
    "plt.subplot(3, 2, 3)\n",
    "plt.plot(x, e0_table, 'o-')\n",
    "plt.xlabel('Широта, град')\n",
    "plt.ylabel('e0, мбар')\n",
    "plt.grid()\n",
    "              \n",
    "plt.subplot(3, 2, 4)\n",
    "plt.plot(x, beta0_table, 'o-')\n",
    "plt.xlabel('Широта, град')\n",
    "plt.ylabel('beta0, К/м')\n",
    "plt.grid()\n",
    "\n",
    "plt.subplot(3, 2, 5)\n",
    "plt.plot(x, lam0_table, 'o-')\n",
    "plt.xlabel('Широта, град')\n",
    "plt.ylabel('lam0')\n",
    "plt.grid()\n",
    "\n",
    "plt.show()"
   ]
  },
  {
   "cell_type": "code",
   "execution_count": 35,
   "id": "8a282e47",
   "metadata": {},
   "outputs": [],
   "source": [
    "P0_interp = scipy.interpolate.interp1d(x, P0_table)\n",
    "T0_interp = scipy.interpolate.interp1d(x, T0_table)\n",
    "e0_interp = scipy.interpolate.interp1d(x, e0_table)\n",
    "beta0_interp = scipy.interpolate.interp1d(x, beta0_table)\n",
    "lam0_interp = scipy.interpolate.interp1d(x, lam0_table)"
   ]
  },
  {
   "cell_type": "code",
   "execution_count": 36,
   "id": "4c0d1ce6",
   "metadata": {},
   "outputs": [
    {
     "name": "stdout",
     "output_type": "stream",
     "text": [
      "P0 = 1012.590958576076 T0 = 266.4314816826834 e0 = 4.983712481501737 beta0 = 0.004811420499659736 lam0 = 1.635080616176199\n"
     ]
    }
   ],
   "source": [
    "# метрологические параметры\n",
    "P0 = P0_interp(result_B)        # давление, мбар\n",
    "T0 = T0_interp(result_B)        # температура, К;\n",
    "e0 = e0_interp(result_B)        # давление насыщенных водяных паров, мбар\n",
    "beta0 = beta0_interp(result_B)  # зависимость температуры от высоты, К/м\n",
    "lam0 = lam0_interp(result_B)    # градиент изменения испарения воды\n",
    "\n",
    "print(\"P0 =\", P0, \"T0 =\", T0, \"e0 =\", e0, \"beta0 =\", beta0, \"lam0 =\", lam0)"
   ]
  },
  {
   "cell_type": "code",
   "execution_count": 37,
   "id": "ca09c78d",
   "metadata": {},
   "outputs": [
    {
     "data": {
      "image/png": "[encoded data removed]",
      "text/plain": [
       "<Figure size 936x720 with 5 Axes>"
      ]
     },
     "metadata": {
      "needs_background": "light"
     },
     "output_type": "display_data"
    }
   ],
   "source": [
    "plt.subplots(figsize = (13, 10), constrained_layout=True)\n",
    "\n",
    "plt.subplot(3, 2, 1)\n",
    "plt.plot(x, dP_table, 'o-')\n",
    "plt.xlabel('Широта, град')\n",
    "plt.ylabel('dP, мбар')\n",
    "plt.grid()\n",
    "\n",
    "plt.subplot(3, 2, 2)\n",
    "plt.plot(x, dT_table, 'o-')\n",
    "plt.xlabel('Широта, град')\n",
    "plt.ylabel('dT, K')\n",
    "plt.grid()\n",
    "\n",
    "plt.subplot(3, 2, 3)\n",
    "plt.plot(x, de_table, 'o-')\n",
    "plt.xlabel('Широта, град')\n",
    "plt.ylabel('de, мбар')\n",
    "plt.grid()\n",
    "\n",
    "plt.subplot(3, 2, 4)\n",
    "plt.plot(x, dbeta_table, 'o-')\n",
    "plt.xlabel('Широта, град')\n",
    "plt.ylabel('dbeta, К/м')\n",
    "plt.grid()\n",
    "\n",
    "plt.subplot(3, 2, 5)\n",
    "plt.plot(x, dlam_table, 'o-')\n",
    "plt.xlabel('Широта, град')\n",
    "plt.ylabel('dlam')\n",
    "plt.grid()\n",
    "\n",
    "plt.show()"
   ]
  },
  {
   "cell_type": "code",
   "execution_count": 38,
   "id": "29910163",
   "metadata": {},
   "outputs": [],
   "source": [
    "dP_interp = scipy.interpolate.interp1d(x, dP_table)\n",
    "dT_interp = scipy.interpolate.interp1d(x, dT_table)\n",
    "de_interp = scipy.interpolate.interp1d(x, de_table)\n",
    "dbeta_interp = scipy.interpolate.interp1d(x, dbeta_table)\n",
    "dlam_interp = scipy.interpolate.interp1d(x, dlam_table)"
   ]
  },
  {
   "cell_type": "code",
   "execution_count": 39,
   "id": "57210f0e",
   "metadata": {},
   "outputs": [
    {
     "name": "stdout",
     "output_type": "stream",
     "text": [
      "dP = -0.9090414239240339 dT = 14.327233139139228 de = 4.034649284104278 dbeta = 0.0006821742964364531 dlam = 0.44398258122125994\n"
     ]
    }
   ],
   "source": [
    "# метрологические сезонные изменения параметров\n",
    "dP = dP_interp(result_B)\n",
    "dT = dT_interp(result_B)\n",
    "de = de_interp(result_B)\n",
    "dbeta = dbeta_interp(result_B)\n",
    "dlam = dlam_interp(result_B)\n",
    "print(\"dP =\", dP, \"dT =\", dT, \"de =\", de, \"dbeta =\", dbeta, \"dlam =\", dlam)"
   ]
  },
  {
   "cell_type": "code",
   "execution_count": 40,
   "id": "858b15c8",
   "metadata": {},
   "outputs": [
    {
     "name": "stdout",
     "output_type": "stream",
     "text": [
      "P = 1012.4363145595408 T = 268.86879732107013 e = 5.670077650550986 beta = 0.004927470407179419 lam = 1.7106099021082983\n"
     ]
    }
   ],
   "source": [
    "P = calculateMetParam(P0, dP, D, Dmin)\n",
    "T = calculateMetParam(T0, dT, D, Dmin)\n",
    "e = calculateMetParam(e0, de, D, Dmin)\n",
    "beta = calculateMetParam(beta0, dbeta, D, Dmin)\n",
    "lam = calculateMetParam(lam0, dlam, D, Dmin)\n",
    "\n",
    "print(\"P =\", P, \"T =\", T, \"e =\", e, \"beta =\", beta, \"lam =\", lam)"
   ]
  },
  {
   "cell_type": "markdown",
   "id": "087799b4",
   "metadata": {},
   "source": [
    "## 4.5 Вычисление тропосферной задержки "
   ]
  },
  {
   "cell_type": "code",
   "execution_count": 41,
   "id": "7c31daa7",
   "metadata": {},
   "outputs": [
    {
     "name": "stdout",
     "output_type": "stream",
     "text": [
      "1.4208275230004017\n"
     ]
    }
   ],
   "source": [
    "m_el = tropCorrect(el)\n",
    "print(m_el)"
   ]
  },
  {
   "cell_type": "code",
   "execution_count": 42,
   "id": "5bf64f66",
   "metadata": {},
   "outputs": [],
   "source": [
    "z_hyd = (1e-6 * k1 * Rd * P) / gm\n",
    "z_wet = ( (1e-6 * k2 * Rd) / (gm * (lam+1) - beta * Rd) ) * (e / T)"
   ]
  },
  {
   "cell_type": "code",
   "execution_count": 43,
   "id": "0a852dfb",
   "metadata": {},
   "outputs": [
    {
     "name": "stdout",
     "output_type": "stream",
     "text": [
      "6.93318913655 17.79317112672211\n"
     ]
    }
   ],
   "source": [
    "step1 = g / (Rd * beta)\n",
    "step2 = ( g*(lam+1) / (Rd*beta) ) - 1\n",
    "print(step1, step2)"
   ]
  },
  {
   "cell_type": "code",
   "execution_count": 44,
   "id": "d281f709",
   "metadata": {},
   "outputs": [
    {
     "name": "stdout",
     "output_type": "stream",
     "text": [
      "2.2472025262320985 0.08628186112034918\n"
     ]
    }
   ],
   "source": [
    "d_hyd = mt.pow((1-(beta * H / T)), step1) * z_hyd\n",
    "d_wet = mt.pow((1-(beta * H / T)), step2) * z_wet\n",
    "print(d_hyd, d_wet)"
   ]
  },
  {
   "cell_type": "code",
   "execution_count": 45,
   "id": "d5d4dd9e",
   "metadata": {},
   "outputs": [
    {
     "name": "stdout",
     "output_type": "stream",
     "text": [
      "dt_trop = -3.315478842042088\n",
      "sigma_trop = 0.1704993027600482\n"
     ]
    }
   ],
   "source": [
    "dt_trop = -(d_hyd + d_wet) * m_el \n",
    "sigma_trop = 0.12 * m_el\n",
    "print(\"dt_trop =\", dt_trop)\n",
    "print(\"sigma_trop =\", sigma_trop)"
   ]
  },
  {
   "cell_type": "code",
   "execution_count": null,
   "id": "c9df4d6c",
   "metadata": {},
   "outputs": [],
   "source": []
  }
 ],
 "metadata": {
  "kernelspec": {
   "display_name": "Python 3 (ipykernel)",
   "language": "python",
   "name": "python3"
  },
  "language_info": {
   "codemirror_mode": {
    "name": "ipython",
    "version": 3
   },
   "file_extension": ".py",
   "mimetype": "text/x-python",
   "name": "python",
   "nbconvert_exporter": "python",
   "pygments_lexer": "ipython3",
   "version": "3.9.12"
  }
 },
 "nbformat": 4,
 "nbformat_minor": 5
}
